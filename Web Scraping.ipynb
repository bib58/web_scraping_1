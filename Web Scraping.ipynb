{
 "cells": [
  {
   "cell_type": "markdown",
   "id": "aabd5d0a",
   "metadata": {},
   "source": [
    "# **Scraping Amazon**"
   ]
  },
  {
   "cell_type": "code",
   "execution_count": null,
   "id": "62e79ff6",
   "metadata": {},
   "outputs": [],
   "source": [
    "from bs4 import BeautifulSoup\n",
    "import requests\n",
    "import pandas as pd"
   ]
  },
  {
   "cell_type": "code",
   "execution_count": null,
   "id": "32e99b3f",
   "metadata": {},
   "outputs": [],
   "source": [
    "link = \"https://www.amazon.in/s?k=dishwasher&crid=1K49P42QD14P0&sprefix=%2Caps%2C924&ref=nb_sb_ss_recent_10_0_recent\"\n",
    "\n",
    "headers = {\n",
    "    'User-Agent': \"Mozilla/5.0 (Windows NT 10.0; Win64; x64) AppleWebKit/537.36 (KHTML, like Gecko) Chrome/122.0.0.0 Safari/537.36 Edg/122.0.0.0\",\n",
    "    \"Accept-Language\": \"en-US,en;q=0.9\",\n",
    "}\n",
    "\n",
    "webpage = requests.get(link, headers=headers)\n",
    "webpage.text"
   ]
  },
  {
   "cell_type": "code",
   "execution_count": null,
   "id": "9c44919a",
   "metadata": {},
   "outputs": [],
   "source": [
    "yum = BeautifulSoup(webpage.text, 'lxml')\n",
    "\n",
    "data = []\n",
    "\n",
    "for link_tag in yum.find_all('a', attrs={'class': 'a-link-normal s-no-outline'})[8:-4]:\n",
    "    full_url = 'https://amazon.in' + link_tag.get('href').strip()\n",
    "    response = requests.get(full_url, headers=headers)\n",
    "\n",
    "    if response.status_code != 200:\n",
    "        print(f\"Failed to fetch {full_url}\")\n",
    "        continue\n",
    "\n",
    "    soup = BeautifulSoup(response.text, 'lxml')\n",
    "\n",
    "    title_tag = soup.find('span', attrs={'id': 'productTitle'})\n",
    "    title = title_tag.text.strip() if title_tag else \"N/A\"\n",
    "\n",
    "\n",
    "\n",
    "    price = \"N/A\"\n",
    "    for price_tag in soup.find_all('span', attrs={'class': 'a-offscreen'}):\n",
    "        price = price_tag.text.strip()\n",
    "        break\n",
    "\n",
    "\n",
    "\n",
    "    brand = \"N/A\"\n",
    "    brand_cell = soup.find('td', class_='a-span9')\n",
    "    if brand_cell:\n",
    "        brand_span = brand_cell.find('span', class_='a-size-base po-break-word')\n",
    "        if brand_span:\n",
    "            brand = brand_span.text.strip()\n",
    "\n",
    "\n",
    "    data.append({\n",
    "        'Title': title,\n",
    "        'Price': price,\n",
    "        'Brand': brand\n",
    "    })\n",
    "\n",
    "    print(f\"Scraped: {title}\")\n",
    "\n",
    "\n",
    "df = pd.DataFrame(data)\n",
    "df.to_csv('Scraped-amazon.csv', index=False)"
   ]
  }
 ],
 "metadata": {
  "language_info": {
   "name": "python"
  }
 },
 "nbformat": 4,
 "nbformat_minor": 5
}
